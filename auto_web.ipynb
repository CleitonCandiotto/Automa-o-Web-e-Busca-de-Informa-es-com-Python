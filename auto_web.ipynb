{
 "cells": [
  {
   "cell_type": "markdown",
   "metadata": {},
   "source": [
    "# Automação Web e Busca de Informações com Python\n",
    "\n",
    "#### Desafio: \n",
    "\n",
    "Trabalhamos em uma importadora e o preço dos nossos produtos é vinculado a cotação de:\n",
    "- Dólar\n",
    "- Euro\n",
    "- Ouro\n",
    "\n",
    "Precisamos pegar na internet, de forma automática, a cotação desses 3 itens e saber quanto devemos cobrar pelos nossos produtos, considerando uma margem de contribuição que temos na nossa base de dados.\n",
    "\n",
    "Para isso, vamos criar uma automação web:\n",
    "\n",
    "- Usaremos o selenium\n"
   ]
  },
  {
   "cell_type": "code",
   "execution_count": 25,
   "metadata": {},
   "outputs": [
    {
     "name": "stdout",
     "output_type": "stream",
     "text": [
      "Cotação Dolar: 5.2463\n",
      "Cotação Euro: 6.154959160000001\n",
      "Cotação Ouro: 295.59\n"
     ]
    }
   ],
   "source": [
    "# Passo 1 - Entrar na internet\n",
    "from selenium import webdriver\n",
    "from selenium.webdriver.common.keys import Keys\n",
    "\n",
    "navegador = webdriver.Chrome()\n",
    "\n",
    "# Passo 2 - Pegar cotação do Dolar\n",
    "\n",
    "# entrar no google\n",
    "\n",
    "navegador.get('https://www.google.com.br/')\n",
    "\n",
    "# pesquisar 'cotação dolar'\n",
    "\n",
    "navegador.find_element_by_xpath(\n",
    "    '/html/body/div[1]/div[3]/form/div[1]/div[1]/div[1]/div/div[2]/input').send_keys('cotação dolar')\n",
    "\n",
    "navegador.find_element_by_xpath(\n",
    "    '/html/body/div[1]/div[3]/form/div[1]/div[1]/div[1]/div/div[2]/input').send_keys(Keys.ENTER)\n",
    "\n",
    "# pegar o numero que aparece no resultado\n",
    "\n",
    "cotacao_dolar = navegador.find_element_by_xpath(\n",
    "    '//*[@id=\"knowledge-currency__updatable-data-column\"]/div[1]/div[2]/span[1]').get_attribute('data-value')\n",
    "\n",
    "\n",
    "\n",
    "# Passo 3 - Pegar contação do Euro\n",
    "\n",
    "# pesquisar 'cotação euro'\n",
    "\n",
    "navegador.find_element_by_xpath('//*[@id=\"tsf\"]/div[1]/div[1]/div[2]/div/div[2]/input').clear()\n",
    "\n",
    "navegador.find_element_by_xpath('//*[@id=\"tsf\"]/div[1]/div[1]/div[2]/div/div[2]/input').send_keys('cotação euro')\n",
    "\n",
    "navegador.find_element_by_xpath('//*[@id=\"tsf\"]/div[1]/div[1]/div[2]/div/div[2]/input').send_keys(Keys.ENTER)\n",
    "\n",
    "# pegar o numero que aparece no resultado\n",
    "\n",
    "cotacao_euro = navegador.find_element_by_xpath(\n",
    "    '//*[@id=\"knowledge-currency__updatable-data-column\"]/div[1]/div[2]/span[1]').get_attribute('data-value')\n",
    "\n",
    "\n",
    "\n",
    "# passo 4 - Pegar cotação do Ouro\n",
    "\n",
    "# entrar no site melhor câmbio hoje\n",
    "\n",
    "navegador.get('https://www.melhorcambio.com/ouro-hoje')\n",
    "\n",
    "\n",
    "# pegar numero que aparece no resultado\n",
    "\n",
    "cotacao_ouro = navegador.find_element_by_xpath('//*[@id=\"comercial\"]').get_attribute('value')\n",
    "cotacao_ouro = cotacao_ouro.replace(',','.')\n",
    "navegador.close()\n",
    "\n",
    "\n",
    "print(f'Cotação Dolar: {cotacao_dolar}')\n",
    "print(f'Cotação Euro: {cotacao_euro}')\n",
    "print(f'Cotação Ouro: {cotacao_ouro}')"
   ]
  },
  {
   "cell_type": "markdown",
   "metadata": {},
   "source": [
    "### Agora vamos atualiza a nossa base de preços com as novas cotações"
   ]
  },
  {
   "cell_type": "markdown",
   "metadata": {},
   "source": [
    "- Importando a base de dados"
   ]
  },
  {
   "cell_type": "code",
   "execution_count": 26,
   "metadata": {
    "scrolled": true
   },
   "outputs": [
    {
     "data": {
      "text/html": [
       "<div>\n",
       "<style scoped>\n",
       "    .dataframe tbody tr th:only-of-type {\n",
       "        vertical-align: middle;\n",
       "    }\n",
       "\n",
       "    .dataframe tbody tr th {\n",
       "        vertical-align: top;\n",
       "    }\n",
       "\n",
       "    .dataframe thead th {\n",
       "        text-align: right;\n",
       "    }\n",
       "</style>\n",
       "<table border=\"1\" class=\"dataframe\">\n",
       "  <thead>\n",
       "    <tr style=\"text-align: right;\">\n",
       "      <th></th>\n",
       "      <th>Produtos</th>\n",
       "      <th>Preço  Original</th>\n",
       "      <th>Moeda</th>\n",
       "      <th>Cotação</th>\n",
       "      <th>Preço de Compra</th>\n",
       "      <th>Margem</th>\n",
       "      <th>Preço Final</th>\n",
       "    </tr>\n",
       "  </thead>\n",
       "  <tbody>\n",
       "    <tr>\n",
       "      <th>0</th>\n",
       "      <td>Câmera Canon</td>\n",
       "      <td>999.99</td>\n",
       "      <td>Dólar</td>\n",
       "      <td>5</td>\n",
       "      <td>4999.95</td>\n",
       "      <td>1.40</td>\n",
       "      <td>6999.930</td>\n",
       "    </tr>\n",
       "    <tr>\n",
       "      <th>1</th>\n",
       "      <td>Carro Renault</td>\n",
       "      <td>4500.00</td>\n",
       "      <td>Euro</td>\n",
       "      <td>6</td>\n",
       "      <td>27000.00</td>\n",
       "      <td>2.00</td>\n",
       "      <td>54000.000</td>\n",
       "    </tr>\n",
       "    <tr>\n",
       "      <th>2</th>\n",
       "      <td>Notebook Dell</td>\n",
       "      <td>899.99</td>\n",
       "      <td>Dólar</td>\n",
       "      <td>5</td>\n",
       "      <td>4499.95</td>\n",
       "      <td>1.70</td>\n",
       "      <td>7649.915</td>\n",
       "    </tr>\n",
       "    <tr>\n",
       "      <th>3</th>\n",
       "      <td>IPhone</td>\n",
       "      <td>799.00</td>\n",
       "      <td>Dólar</td>\n",
       "      <td>5</td>\n",
       "      <td>3995.00</td>\n",
       "      <td>1.70</td>\n",
       "      <td>6791.500</td>\n",
       "    </tr>\n",
       "    <tr>\n",
       "      <th>4</th>\n",
       "      <td>Carro Fiat</td>\n",
       "      <td>3000.00</td>\n",
       "      <td>Euro</td>\n",
       "      <td>6</td>\n",
       "      <td>18000.00</td>\n",
       "      <td>1.90</td>\n",
       "      <td>34200.000</td>\n",
       "    </tr>\n",
       "    <tr>\n",
       "      <th>5</th>\n",
       "      <td>Celular Xiaomi</td>\n",
       "      <td>480.48</td>\n",
       "      <td>Dólar</td>\n",
       "      <td>5</td>\n",
       "      <td>2402.40</td>\n",
       "      <td>2.00</td>\n",
       "      <td>4804.800</td>\n",
       "    </tr>\n",
       "    <tr>\n",
       "      <th>6</th>\n",
       "      <td>Joia 20g</td>\n",
       "      <td>20.00</td>\n",
       "      <td>Ouro</td>\n",
       "      <td>350</td>\n",
       "      <td>7000.00</td>\n",
       "      <td>1.15</td>\n",
       "      <td>8050.000</td>\n",
       "    </tr>\n",
       "  </tbody>\n",
       "</table>\n",
       "</div>"
      ],
      "text/plain": [
       "         Produtos  Preço  Original  Moeda  Cotação  Preço de Compra  Margem  \\\n",
       "0    Câmera Canon           999.99  Dólar        5          4999.95    1.40   \n",
       "1   Carro Renault          4500.00   Euro        6         27000.00    2.00   \n",
       "2   Notebook Dell           899.99  Dólar        5          4499.95    1.70   \n",
       "3          IPhone           799.00  Dólar        5          3995.00    1.70   \n",
       "4      Carro Fiat          3000.00   Euro        6         18000.00    1.90   \n",
       "5  Celular Xiaomi           480.48  Dólar        5          2402.40    2.00   \n",
       "6        Joia 20g            20.00   Ouro      350          7000.00    1.15   \n",
       "\n",
       "   Preço Final  \n",
       "0     6999.930  \n",
       "1    54000.000  \n",
       "2     7649.915  \n",
       "3     6791.500  \n",
       "4    34200.000  \n",
       "5     4804.800  \n",
       "6     8050.000  "
      ]
     },
     "execution_count": 26,
     "metadata": {},
     "output_type": "execute_result"
    }
   ],
   "source": [
    "import pandas as pd\n",
    "\n",
    "tabela = pd.read_excel('Produtos (1).xlsx') \n",
    "tabela"
   ]
  },
  {
   "cell_type": "markdown",
   "metadata": {},
   "source": [
    "- Atualizando os preços e o cálculo do Preço Final"
   ]
  },
  {
   "cell_type": "code",
   "execution_count": 29,
   "metadata": {},
   "outputs": [],
   "source": [
    "# Atualizar a contação\n",
    "# tabela.loc[Linha, Coluna]\n",
    "\n",
    "# Aonde na 'Moeda' == 'Dólar'\n",
    "tabela.loc[tabela['Moeda']=='Dólar', 'Cotação'] = float(cotacao_dolar)\n",
    "\n",
    "# Aonde na 'Moeda' == 'Euro'\n",
    "tabela.loc[tabela['Moeda']=='Euro', 'Cotação'] = float(cotacao_euro)\n",
    "\n",
    "# Aonde na 'Moeda' == 'Ouro'\n",
    "tabela.loc[tabela['Moeda']=='Ouro', 'Cotação'] = float(cotacao_ouro)\n",
    "\n",
    "\n",
    "# Atualizar o preço de compra: preço original x cotacçao\n",
    "\n",
    "tabela['Preço de Compra'] = tabela['Preço  Original'] * tabela['Cotação'].round(1)\n"
   ]
  },
  {
   "cell_type": "markdown",
   "metadata": {},
   "source": [
    "### Agora vamos exportar a nova base de preços atualizada"
   ]
  },
  {
   "cell_type": "code",
   "execution_count": 28,
   "metadata": {},
   "outputs": [],
   "source": [
    "tabela.to_excel('Produtos_Novo.xlsx', index=False)"
   ]
  }
 ],
 "metadata": {
  "kernelspec": {
   "display_name": "Python 3",
   "language": "python",
   "name": "python3"
  },
  "language_info": {
   "codemirror_mode": {
    "name": "ipython",
    "version": 3
   },
   "file_extension": ".py",
   "mimetype": "text/x-python",
   "name": "python",
   "nbconvert_exporter": "python",
   "pygments_lexer": "ipython3",
   "version": "3.8.5"
  }
 },
 "nbformat": 4,
 "nbformat_minor": 4
}
